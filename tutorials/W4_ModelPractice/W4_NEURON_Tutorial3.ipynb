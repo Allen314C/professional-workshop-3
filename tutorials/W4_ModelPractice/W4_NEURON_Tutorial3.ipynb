{
 "cells": [
  {
   "cell_type": "markdown",
   "metadata": {},
   "source": [
    "# NEURON Tutorial 3\n",
    "## Objectives\n",
    "- Load an biological detailed neuron from external *.hoc files.\n",
    "- Simulation the imported neuron.\n"
   ]
  },
  {
   "cell_type": "code",
   "execution_count": 1,
   "metadata": {},
   "outputs": [
    {
     "data": {
      "text/plain": [
       "True"
      ]
     },
     "execution_count": 1,
     "metadata": {},
     "output_type": "execute_result"
    }
   ],
   "source": [
    "from neuron import h\n",
    "from neuron.units import ms, mV \n",
    "import matplotlib.pyplot as plt\n",
    "import numpy as np\n",
    "import neuron\n",
    "neuron.load_mechanisms('./E-I-Integration/')"
   ]
  },
  {
   "cell_type": "code",
   "execution_count": 2,
   "metadata": {},
   "outputs": [
    {
     "name": "stdout",
     "output_type": "stream",
     "text": [
      "\t1 \n",
      "Check neuron_morph\n",
      "\t Note: diam values less than 0.3um are set to 0.3um!\n",
      "Diam was changed for: 0  points\n",
      "\n",
      "\t1 \n",
      "\t1 \n",
      "\t1 \n",
      "\t1 \n",
      "\t1 \n",
      "\t1 \n",
      "\t1 \n",
      "\t1 \n",
      "\t1 \n"
     ]
    },
    {
     "data": {
      "text/plain": [
       "1.0"
      ]
     },
     "execution_count": 2,
     "metadata": {},
     "output_type": "execute_result"
    }
   ],
   "source": [
    "h.load_file('E-I-Integration/preload_files.hoc')"
   ]
  },
  {
   "cell_type": "code",
   "execution_count": 3,
   "metadata": {},
   "outputs": [],
   "source": [
    "# Parameters \n",
    "\n",
    "celsius = 34.0\n",
    "\n",
    "Rm =  6e4\n",
    "RmEnd = 2e4\n",
    "RmSoma = Rm\n",
    "RmAx = Rm\n",
    "\n",
    "Cm   = 1\n",
    "\n",
    "RaAll = 80\n",
    "\n",
    "Vrest = -70\n",
    "\n",
    "gna = 0.03\n",
    "\n",
    "gkdr = 0.005\n",
    "\n",
    "gka = 0.005\n",
    "gka_dist = gka\n",
    "gka_prox = gka\n",
    "\n",
    "ghd = 2e-5\n",
    "gh_soma = ghd\n",
    "gh_end  = 10*ghd\n",
    "\n",
    "gabab_gabaa_ratio = 0.6\n",
    "nmda_ampa_ratio = 0.6   # to be reset in the main() function\n",
    "Block_NMDA_Flag = False"
   ]
  },
  {
   "cell_type": "code",
   "execution_count": 4,
   "metadata": {
    "scrolled": true
   },
   "outputs": [],
   "source": [
    "# initial biophysical mechanisms\n",
    "h.distance()\n",
    "h.soma.insert('na3')\n",
    "h.soma.insert('kdr')\n",
    "h.soma.insert('hd')\n",
    "h.soma.insert('kap')\n",
    "h.soma.insert('pas')\n",
    "h.soma.gbar_na3 = gna\n",
    "h.soma.gkdrbar_kdr = gkdr\n",
    "h.soma.ghdbar_hd = gh_soma\n",
    "h.soma.vhalfl_hd = -73\n",
    "h.soma.gkabar_kap = gka_prox\n",
    "h.soma.e_pas = Vrest\n",
    "h.soma.g_pas = 1/RmSoma \n",
    "h.soma.Ra = RaAll\n",
    "h.soma.cm = Cm\n",
    "  \n",
    "for sec in h.axon_sections:\n",
    "  sec.insert('nax')\n",
    "  sec.insert('kdr')\n",
    "  sec.insert('kap')\n",
    "  sec.insert('pas')\n",
    "  sec.gbar_nax = 2*gna\n",
    "  sec.gkdrbar_kdr = gkdr\n",
    "  sec.gkabar_kap = gka_prox\n",
    "  sec.e_pas = Vrest \n",
    "  sec.g_pas = 1/RmAx \n",
    "  sec.Ra = RaAll \n",
    "  sec.cm = Cm\n",
    "\n",
    "for sec in h.basal_dendrite:\n",
    "  sec.insert('na3')\n",
    "  sec.insert('kdr')\n",
    "  sec.insert('kap')\n",
    "  sec.insert('pas')\n",
    "  sec.gbar_na3 = gna\n",
    "  sec.gkdrbar_kdr = gkdr\n",
    "  sec.gkabar_kap = gka_prox\n",
    "  sec.e_pas = Vrest \n",
    "  sec.g_pas = 1/Rm \n",
    "  sec.Ra = RaAll \n",
    "  sec.cm = Cm\n",
    "\n",
    "for sec in h.apical_dendrite:\n",
    "  sec.insert('pas')\n",
    "  sec.insert('na3')\n",
    "  sec.insert('kdr')\n",
    "  sec.e_pas = Vrest \n",
    "  sec.Ra = RaAll  \n",
    "  sec.cm = Cm\n",
    "  sec.gbar_na3 = gna\n",
    "  sec.gkdrbar_kdr = gkdr\n",
    "  sec.insert('hd')\n",
    "  sec.insert('kap')\n",
    "  sec.insert('kad')\n",
    "  for seg in sec.allseg():\n",
    "    if seg.x>0 and seg.x<1:\n",
    "      xdist = h.distance(seg.x, sec=sec)\n",
    "\n",
    "      rm = RmSoma + (RmEnd - RmSoma)/(1.0 + np.exp((300-xdist)/50))\n",
    "      seg.g_pas = 1.0/rm\n",
    "\n",
    "      seg.ghdbar_hd = gh_soma + (gh_end - gh_soma)/(1.0 + np.exp((300-xdist)/50)) #7 fold when xdist=335\n",
    "      if xdist < 100:\n",
    "        vhalfl_hd = -73\n",
    "      else:\n",
    "        vhalfl_hd = -81\n",
    "\n",
    "      if xdist > 300:\n",
    "        seg.ar2_na3 = 0.3\n",
    "      else:\n",
    "        seg.ar2_na3 = 0.9 - xdist*(0.9-0.3)/300\n",
    "\n",
    "      if xdist < 100:\n",
    "        seg.gkabar_kad = 0\n",
    "        seg.gkabar_kap = gka_prox*(1+xdist/70)\n",
    "      elif xdist < 350:\n",
    "        seg.gkabar_kap = 0\n",
    "        seg.gkabar_kad = gka_dist*(1+xdist/70)  #6 fold when xdist=350\n",
    "      else:\n",
    "        seg.gkabar_kap = 0\n",
    "        seg.gkabar_kad = gka_dist*6\n"
   ]
  },
  {
   "cell_type": "markdown",
   "metadata": {},
   "source": [
    "h.PlotShape(False).plot(plt)"
   ]
  },
  {
   "cell_type": "markdown",
   "metadata": {},
   "source": [
    "from neuron import gui\n",
    "ps = h.PlotShape(True)"
   ]
  },
  {
   "cell_type": "markdown",
   "metadata": {},
   "source": [
    "### Define monitor"
   ]
  },
  {
   "cell_type": "code",
   "execution_count": 5,
   "metadata": {},
   "outputs": [],
   "source": [
    "soma_v = h.Vector().record(h.soma(0)._ref_v)\n",
    "t = h.Vector().record(h._ref_t)"
   ]
  },
  {
   "cell_type": "markdown",
   "metadata": {},
   "source": [
    "### Initialize membrane potential and current"
   ]
  },
  {
   "cell_type": "code",
   "execution_count": 6,
   "metadata": {},
   "outputs": [],
   "source": [
    "for sec in h.allsec():\n",
    "  if h.ismembrane('na3', sec=sec) or h.ismembrane('nax'):\n",
    "    sec.ena=55\n",
    "  if h.ismembrane('kap', sec=sec) or h.ismembrane('kad', sec=sec) or h.ismembrane('kdr', sec=sec):\n",
    "    sec.ek=-90\n",
    "  #if h.ismembrane('hd', sec=sec):\n",
    "  #  sec.ehd_hd=-30\n",
    "h.finitialize(Vrest)\n",
    "h.fcurrent()\n",
    "\n",
    "for sec in h.allsec():\n",
    "  for seg in sec.allseg():\n",
    "    if h.ismembrane('na_ion', sec=sec) or h.ismembrane('k_ion', sec=sec):\n",
    "      seg.e_pas=seg.v+(seg.ina+seg.ik)/seg.g_pas\n",
    "    if h.ismembrane('hd', sec=sec):\n",
    "      seg.e_pas = seg.e_pas + seg.i_hd/seg.g_pas\n",
    "  h.fcurrent()"
   ]
  },
  {
   "cell_type": "markdown",
   "metadata": {},
   "source": [
    "### Define synaptic input and synapses"
   ]
  },
  {
   "cell_type": "code",
   "execution_count": 7,
   "metadata": {
    "scrolled": false
   },
   "outputs": [],
   "source": [
    "I_loc=2\n",
    "E_loc=28\n",
    "stim_gaba=h.NetStim(0.5)\n",
    "stim_gaba.number=1\n",
    "stim_glut=h.NetStim(0.5)\n",
    "stim_glut.number=1"
   ]
  },
  {
   "cell_type": "code",
   "execution_count": 8,
   "metadata": {},
   "outputs": [],
   "source": [
    "sec = h.dend[I_loc]\n",
    "syn_gaba_a = h.ExpSyn(sec(0.5))\n",
    "syn_gaba_b = h.ExpSyn(sec(0.5))\n",
    "syn_gaba_a.e=-80 * mV\n",
    "syn_gaba_b.e=-80 * mV\n",
    "  \n",
    "sec = h.dend[E_loc]\n",
    "E_dist = h.distance(0.5, sec=sec)\n",
    "syn_ampa = h.ExpSyn(sec(0.5))\n",
    "syn_nmda = h.ExpSyn(sec(0.5))\n",
    "syn_ampa.e=0 * mV\n",
    "syn_nmda.e=0 * mV\n",
    "if not Block_NMDA_Flag:\n",
    "  nmda_ampa_ratio = 0.6/(1+E_dist/300)\n",
    "else:\n",
    "  nmda_ampa_ratio = 0.1*0.6/(1+E_dist/300)\n",
    "  \n",
    "ncgabaa = h.NetCon(stim_gaba, syn_gaba_a)\n",
    "ncgabab = h.NetCon(stim_gaba, syn_gaba_b)\n",
    "ncgabaa.weight[0]= 2.0\n",
    "ncgabab.weight[0]=ncgabaa.weight[0]*gabab_gabaa_ratio\n",
    "ncnmda = h.NetCon(stim_glut, syn_nmda)\n",
    "ncampa = h.NetCon(stim_glut, syn_ampa)\n",
    "ncampa.weight[0] = 1.5 # (umho)   maximum conductance\n",
    "ncnmda.weight[0] = ncampa.weight[0]*nmda_ampa_ratio"
   ]
  },
  {
   "cell_type": "markdown",
   "metadata": {},
   "source": [
    "## Simulation"
   ]
  },
  {
   "cell_type": "code",
   "execution_count": 9,
   "metadata": {},
   "outputs": [
    {
     "data": {
      "text/plain": [
       "0.0"
      ]
     },
     "execution_count": 9,
     "metadata": {},
     "output_type": "execute_result"
    }
   ],
   "source": [
    "stim_gaba.start=20\n",
    "stim_glut.start=100\n",
    "\n",
    "h.finitialize(Vrest)\n",
    "h.continuerun(200)"
   ]
  },
  {
   "cell_type": "markdown",
   "metadata": {},
   "source": [
    "## Plotting"
   ]
  },
  {
   "cell_type": "code",
   "execution_count": 10,
   "metadata": {},
   "outputs": [
    {
     "data": {
      "text/plain": [
       "Text(0, 0.5, 'v (mV)')"
      ]
     },
     "execution_count": 10,
     "metadata": {},
     "output_type": "execute_result"
    },
    {
     "data": {
      "image/png": "[encoded data removed]",
      "text/plain": [
       "<Figure size 432x288 with 1 Axes>"
      ]
     },
     "metadata": {
      "needs_background": "light"
     },
     "output_type": "display_data"
    }
   ],
   "source": [
    "fig = plt.figure()\n",
    "plt.plot(t, soma_v)\n",
    "plt.xlabel('t (ms)')\n",
    "plt.ylabel('v (mV)')"
   ]
  }
 ],
 "metadata": {
  "kernelspec": {
   "display_name": "Python 3(bmtk)",
   "language": "python",
   "name": "bmtk"
  },
  "language_info": {
   "codemirror_mode": {
    "name": "ipython",
    "version": 3
   },
   "file_extension": ".py",
   "mimetype": "text/x-python",
   "name": "python",
   "nbconvert_exporter": "python",
   "pygments_lexer": "ipython3",
   "version": "3.7.8"
  }
 },
 "nbformat": 4,
 "nbformat_minor": 4
}
